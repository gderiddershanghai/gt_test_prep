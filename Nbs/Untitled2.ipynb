{
 "cells": [
  {
   "cell_type": "code",
   "execution_count": 310,
   "id": "c12ffc0e-0fb9-4145-90d2-d0c3b93a12ab",
   "metadata": {},
   "outputs": [],
   "source": [
    "import numpy as np\n",
    "import math"
   ]
  },
  {
   "cell_type": "code",
   "execution_count": 33,
   "id": "2e5687a4-50d0-4c34-afdb-a4e887cd0bb9",
   "metadata": {},
   "outputs": [
    {
     "data": {
      "text/plain": [
       "83333.33333333334"
      ]
     },
     "execution_count": 33,
     "metadata": {},
     "output_type": "execute_result"
    }
   ],
   "source": [
    "r = 0.12\n",
    "g = 0 #(140/10_000)\n",
    "t = 1\n",
    "D = 10_000\n",
    "\n",
    "lfs = D / (r - g)\n",
    "rhs = 1 / ((1 + r) ** (t - 1))\n",
    "P0 = lfs * rhs\n",
    "P0"
   ]
  },
  {
   "cell_type": "code",
   "execution_count": 40,
   "id": "87cda4fa-bf85-4231-bfd9-894efa602852",
   "metadata": {},
   "outputs": [
    {
     "data": {
      "text/plain": [
       "75446.42857142857"
      ]
     },
     "execution_count": 40,
     "metadata": {},
     "output_type": "execute_result"
    }
   ],
   "source": [
    "r = 0.12\n",
    "g = 0\n",
    "t = 2\n",
    "D = 10_140\n",
    "\n",
    "lfs = D / (r - g)\n",
    "rhs = 1 / ((1 + r) ** (t - 1))\n",
    "P0 = lfs * rhs\n",
    "P0"
   ]
  },
  {
   "cell_type": "code",
   "execution_count": 41,
   "id": "b31eb147-dde6-4597-a4b5-447062fda1f8",
   "metadata": {},
   "outputs": [
    {
     "data": {
      "text/plain": [
       "83482.14285714286"
      ]
     },
     "execution_count": 41,
     "metadata": {},
     "output_type": "execute_result"
    }
   ],
   "source": [
    "(9000/(1.12)) + P0"
   ]
  },
  {
   "cell_type": "code",
   "execution_count": 74,
   "id": "989d1deb-c335-4adb-92b3-c84568ba1edb",
   "metadata": {},
   "outputs": [],
   "source": [
    "def calculate_price(E1, b, r, ROE):\n",
    "    g  = b*ROE\n",
    "    print('g: ', g)\n",
    "    num = (1-b)*E1\n",
    "    print('numerator, D', num)\n",
    "    den = r-(b*ROE)\n",
    "    return num/den"
   ]
  },
  {
   "cell_type": "code",
   "execution_count": 75,
   "id": "f8ec6cbf-a705-48ce-a6c4-d62878a2c3b6",
   "metadata": {},
   "outputs": [
    {
     "name": "stdout",
     "output_type": "stream",
     "text": [
      "g:  0.05\n",
      "numerator, D 2.5\n"
     ]
    },
    {
     "data": {
      "text/plain": [
       "50.0"
      ]
     },
     "execution_count": 75,
     "metadata": {},
     "output_type": "execute_result"
    }
   ],
   "source": [
    "E1, b, r, ROE = 5,0.5,0.10,0.1\n",
    "calculate_price(E1, b, r, ROE)"
   ]
  },
  {
   "cell_type": "code",
   "execution_count": 76,
   "id": "3e6e0e95-de07-41ec-8096-3d63a5fd7ad4",
   "metadata": {},
   "outputs": [
    {
     "data": {
      "text/plain": [
       "16.666666666666668"
      ]
     },
     "execution_count": 76,
     "metadata": {},
     "output_type": "execute_result"
    }
   ],
   "source": [
    "D =0.5\n",
    "r=0.12\n",
    "g=0.09\n",
    "D/(r-g)"
   ]
  },
  {
   "cell_type": "code",
   "execution_count": 83,
   "id": "b519a372-8151-4892-bef1-0e416a4be5cb",
   "metadata": {},
   "outputs": [
    {
     "name": "stdout",
     "output_type": "stream",
     "text": [
      "g:  0.09\n",
      "numerator, D 0.5\n"
     ]
    },
    {
     "data": {
      "text/plain": [
       "16.666666666666668"
      ]
     },
     "execution_count": 83,
     "metadata": {},
     "output_type": "execute_result"
    }
   ],
   "source": [
    "E1, b, r, ROE = 2,0.75,0.12,0.12\n",
    "calculate_price(E1, b, r, ROE)"
   ]
  },
  {
   "cell_type": "code",
   "execution_count": 78,
   "id": "5905595a-8db5-4774-aed1-7ca1567c18c5",
   "metadata": {},
   "outputs": [
    {
     "data": {
      "text/plain": [
       "0.75"
      ]
     },
     "execution_count": 78,
     "metadata": {},
     "output_type": "execute_result"
    }
   ],
   "source": [
    "0.09/0.12"
   ]
  },
  {
   "cell_type": "code",
   "execution_count": 87,
   "id": "cbcc0b9b-0897-45e9-a3c5-3577f511e6e4",
   "metadata": {},
   "outputs": [],
   "source": [
    "def guess(C0, C1, C2, C3, r):\n",
    "    total = 0\n",
    "    for t,C in enumerate([C1,C2,C3], start=1):\n",
    "        pay_out = C/((1+r)**t)\n",
    "        total+=pay_out\n",
    "    \n",
    "    return C0+total\n",
    "        "
   ]
  },
  {
   "cell_type": "code",
   "execution_count": 101,
   "id": "f11bf813-51fb-477b-b442-b4aa7b56774c",
   "metadata": {},
   "outputs": [
    {
     "name": "stdout",
     "output_type": "stream",
     "text": [
      "28.43567003982571 0.23\n",
      "24.532589105127954 0.23051282051282052\n",
      "20.634731040488077 0.23102564102564105\n",
      "16.742086278960414 0.23153846153846155\n",
      "12.854645275549956 0.23205128205128206\n",
      "8.972398507165053 0.23256410256410256\n",
      "5.095336472548297 0.2330769230769231\n",
      "1.2234496922274047 0.2335897435897436\n"
     ]
    }
   ],
   "source": [
    "C0, C1, C2, C3, = -5000,2500,2500,2500\n",
    "min_val = 1e5\n",
    "for r in np.linspace(0.23,0.25,num=40):\n",
    "    value = guess(C0, C1, C2, C3, r)\n",
    "    if value<min_val and value>0:\n",
    "        min_val=value\n",
    "        print(value, r)"
   ]
  },
  {
   "cell_type": "code",
   "execution_count": 103,
   "id": "fbf7b95e-6025-4380-a1b4-0b448a369a32",
   "metadata": {},
   "outputs": [
    {
     "name": "stdout",
     "output_type": "stream",
     "text": [
      "3100.0 0.0\n",
      "2952.495224028158 0.00641025641025641\n",
      "2808.622035984984 0.01282051282051282\n",
      "2668.2684363602175 0.019230769230769232\n",
      "2531.3265625000013 0.02564102564102564\n",
      "2397.6925110003394 0.03205128205128205\n",
      "2267.266168775084 0.038461538461538464\n",
      "2139.951052324229 0.04487179487179487\n",
      "2015.654154756895 0.05128205128205128\n",
      "1894.2858001502627 0.05769230769230769\n",
      "1775.7595048505827 0.0641025641025641\n",
      "1659.9918453458458 0.07051282051282051\n",
      "1546.9023323615174 0.07692307692307693\n",
      "1436.413290851162 0.08333333333333333\n",
      "1328.4497455729716 0.08974358974358974\n",
      "1222.9393119610331 0.09615384615384615\n",
      "1119.8120920170531 0.10256410256410256\n",
      "1019.0005749638294 0.10897435897435898\n",
      "920.4395424166632 0.11538461538461538\n",
      "824.0659778425652 0.12179487179487179\n",
      "729.8189800901573 0.1282051282051282\n",
      "637.6396807852798 0.1346153846153846\n",
      "547.4711653987633 0.14102564102564102\n",
      "459.2583978035136 0.14743589743589744\n",
      "372.9481481481498 0.15384615384615385\n",
      "288.4889238838605 0.16025641025641024\n",
      "205.83090379008718 0.16666666666666666\n",
      "124.92587485296008 0.17307692307692307\n",
      "45.727171858304246 0.1794871794871795\n"
     ]
    }
   ],
   "source": [
    "C0, C1, C2, C3, = -5000,0,1000,7100\n",
    "min_val = 1e5\n",
    "for r in np.linspace(0.0,0.25,num=40):\n",
    "    value = guess(C0, C1, C2, C3, r)\n",
    "    if value<min_val and value>0:\n",
    "        min_val=value\n",
    "        print(value, r)"
   ]
  },
  {
   "cell_type": "code",
   "execution_count": 114,
   "id": "6766cf2b-e94b-48ce-9b96-97814b5f23ef",
   "metadata": {},
   "outputs": [],
   "source": [
    "def npv(C0, C1, C2, C3, r):\n",
    "    total = C0\n",
    "    for t,C in enumerate([C1,C2,C3], start=1):\n",
    "        pay_out = C/((1+r)**t)\n",
    "        total+=pay_out\n",
    "    return total"
   ]
  },
  {
   "cell_type": "code",
   "execution_count": 118,
   "id": "16174dcb-7ec4-4a82-8e8a-bba497b5058f",
   "metadata": {},
   "outputs": [
    {
     "data": {
      "text/plain": [
       "10.73724007561438"
      ]
     },
     "execution_count": 118,
     "metadata": {},
     "output_type": "execute_result"
    }
   ],
   "source": [
    "C0, C1, C2, C3, = -80,0,120,0\n",
    "r=0.15\n",
    "# r=0.05\n",
    "npv(C0, C1, C2, C3, r)"
   ]
  },
  {
   "cell_type": "code",
   "execution_count": 119,
   "id": "91b980ef-7615-42cb-a638-38248d0e68a3",
   "metadata": {},
   "outputs": [
    {
     "data": {
      "text/plain": [
       "5.519848771266545"
      ]
     },
     "execution_count": 119,
     "metadata": {},
     "output_type": "execute_result"
    }
   ],
   "source": [
    "C0, C1, C2, C3, = -40,28,28,0\n",
    "r=0.15\n",
    "# r=0.05\n",
    "npv(C0, C1, C2, C3, r)"
   ]
  },
  {
   "cell_type": "code",
   "execution_count": 121,
   "id": "9e8fd460-7532-4fec-8fc4-ef8653255f15",
   "metadata": {},
   "outputs": [
    {
     "data": {
      "text/plain": [
       "(0.22474487139158916, 0.2569178573608526)"
      ]
     },
     "execution_count": 121,
     "metadata": {},
     "output_type": "execute_result"
    }
   ],
   "source": [
    "import numpy_financial as npf\n",
    "\n",
    "# Cash flows\n",
    "irrA = [-80, 0, 120]\n",
    "irrB = [-40, 28,28]\n",
    "\n",
    "# IRR calculation\n",
    "irrA = npf.irr(irrA)\n",
    "irrB = npf.irr(irrB)\n",
    "irrA , irrB "
   ]
  },
  {
   "cell_type": "code",
   "execution_count": 124,
   "id": "f752c40b-624b-4289-b6e6-bedfdf86d193",
   "metadata": {},
   "outputs": [
    {
     "data": {
      "text/plain": [
       "(10.73724007561438, 5.519848771266545)"
      ]
     },
     "execution_count": 124,
     "metadata": {},
     "output_type": "execute_result"
    }
   ],
   "source": [
    "irrA = [-80, 0, 120]\n",
    "irrB = [-40, 28,28]\n",
    "r = 0.15\n",
    "npf.npv(r, irrA), npf.npv(r, irrB)"
   ]
  },
  {
   "cell_type": "code",
   "execution_count": 129,
   "id": "43b70207-5896-4951-864f-e6491a1ee44f",
   "metadata": {},
   "outputs": [
    {
     "data": {
      "text/plain": [
       "7.936091049495123"
      ]
     },
     "execution_count": 129,
     "metadata": {},
     "output_type": "execute_result"
    }
   ],
   "source": [
    "rate = 1.16**0.25 -1\n",
    "0.3/rate"
   ]
  },
  {
   "cell_type": "code",
   "execution_count": 130,
   "id": "54353194-87d8-45b4-b052-c5a604457759",
   "metadata": {},
   "outputs": [
    {
     "name": "stdout",
     "output_type": "stream",
     "text": [
      "7.94\n"
     ]
    }
   ],
   "source": [
    "# EAR and dividend\n",
    "ear = 0.16\n",
    "D = 0.3\n",
    "\n",
    "# Convert EAR to quarterly rate\n",
    "r_q = (1 + ear) ** (1/4) - 1\n",
    "\n",
    "# Perpetuity valuation\n",
    "P0 = D / r_q\n",
    "print(round(P0, 2))  # value in million\n"
   ]
  },
  {
   "cell_type": "code",
   "execution_count": 141,
   "id": "0c9e2598-3f98-4e1c-8f4d-6c20e6ca70dc",
   "metadata": {},
   "outputs": [],
   "source": [
    "total_year_1 = D/(1+r) + D/(1+r)**2 + D/((1+r)**3)+ D/((1+r)**4)"
   ]
  },
  {
   "cell_type": "code",
   "execution_count": 153,
   "id": "ec428f09-ce90-4e51-8f3a-2ed0236ecebb",
   "metadata": {},
   "outputs": [
    {
     "data": {
      "text/plain": [
       "7.976125311467075"
      ]
     },
     "execution_count": 153,
     "metadata": {},
     "output_type": "execute_result"
    }
   ],
   "source": [
    "cost=1\n",
    "pv_cost = cost / ((1 + r_q) ** 4)\n",
    "D1 = 0.35\n",
    "P1 = D1 / r_q\n",
    "P1 * (1/(1+r_q)**4) + total_year_1 - pv_cost"
   ]
  },
  {
   "cell_type": "code",
   "execution_count": 152,
   "id": "4641a527-c2b5-41ad-bcd4-5af86b85c6aa",
   "metadata": {},
   "outputs": [
    {
     "data": {
      "text/plain": [
       "0.8620689655172414"
      ]
     },
     "execution_count": 152,
     "metadata": {},
     "output_type": "execute_result"
    }
   ],
   "source": [
    "pv_cost"
   ]
  },
  {
   "cell_type": "code",
   "execution_count": 154,
   "id": "035424aa-61a4-4338-ad0a-7f74d9524db0",
   "metadata": {},
   "outputs": [
    {
     "data": {
      "text/plain": [
       "(7.936091049495123, 8.214265050859364)"
      ]
     },
     "execution_count": 154,
     "metadata": {},
     "output_type": "execute_result"
    }
   ],
   "source": [
    "# Inputs\n",
    "ear = 0.16\n",
    "base_div = 0.3  # million per quarter\n",
    "increment = 0.05  # million\n",
    "cost = 1  # million\n",
    "\n",
    "# Convert EAR to quarterly rate\n",
    "r_q = (1 + ear) ** (1/4) - 1\n",
    "\n",
    "# Question 9: Base firm value (perpetuity)\n",
    "base_value = base_div / r_q\n",
    "\n",
    "# Question 10:\n",
    "# PV of incremental earnings (starts in quarter 5)\n",
    "pv_increment = (increment / r_q) / ((1 + r_q) ** 4)\n",
    "\n",
    "# PV of cost (paid at end of year = quarter 4)\n",
    "pv_cost = cost / ((1 + r_q) ** 4)\n",
    "\n",
    "# Firm value with expansion\n",
    "firm_value_with_expansion = base_value + pv_increment - pv_cost\n",
    "\n",
    "base_value, firm_value_with_expansion\n"
   ]
  },
  {
   "cell_type": "code",
   "execution_count": 155,
   "id": "0518573f-b9ab-4c47-ac5e-be6bb48b97a5",
   "metadata": {},
   "outputs": [
    {
     "data": {
      "text/plain": [
       "1.1402429668814833"
      ]
     },
     "execution_count": 155,
     "metadata": {},
     "output_type": "execute_result"
    }
   ],
   "source": [
    "def annuity(CF, )"
   ]
  },
  {
   "cell_type": "code",
   "execution_count": 194,
   "id": "d3e4229e-2314-4622-a6c6-6d6175700f4b",
   "metadata": {},
   "outputs": [],
   "source": [
    "def growing_annuity(CF, g,r, T):\n",
    "    rhs = 1 - ((1+g)/(1+r))**T\n",
    "    lfs = CF / (r-g)\n",
    "    PV = lfs * rhs\n",
    "    print('${:,.2f}'.format(PV))\n",
    "    return PV"
   ]
  },
  {
   "cell_type": "code",
   "execution_count": 197,
   "id": "266daf28-e898-4262-bc3d-e94384e84ff2",
   "metadata": {},
   "outputs": [
    {
     "name": "stdout",
     "output_type": "stream",
     "text": [
      "$213,038.59\n"
     ]
    },
    {
     "data": {
      "text/plain": [
       "213038.59409950863"
      ]
     },
     "execution_count": 197,
     "metadata": {},
     "output_type": "execute_result"
    }
   ],
   "source": [
    "CF = 58000\n",
    "g = 0\n",
    "r = 0.035 \n",
    "T = 4\n",
    "growing_annuity(CF, g,r, T)"
   ]
  },
  {
   "cell_type": "code",
   "execution_count": 196,
   "id": "10c62312-7df7-466e-9512-0cdf532e7444",
   "metadata": {},
   "outputs": [
    {
     "name": "stdout",
     "output_type": "stream",
     "text": [
      "$70,891.88\n"
     ]
    }
   ],
   "source": [
    "money = 100_000\n",
    "discount_rate = 0.035\n",
    "T = -10\n",
    "present_value(money, discount_rate, T)"
   ]
  },
  {
   "cell_type": "code",
   "execution_count": 168,
   "id": "5e5b4a60-5206-4e62-be09-ea50d41210d9",
   "metadata": {},
   "outputs": [],
   "source": [
    "def perpetuity(CF, g, r):\n",
    "\n",
    "    PV = CF / (r-g)\n",
    "    return PV"
   ]
  },
  {
   "cell_type": "code",
   "execution_count": 175,
   "id": "59c4eb14-a63a-4bed-aa58-f3b21599d8d8",
   "metadata": {},
   "outputs": [],
   "source": [
    "def present_value(money, discount_rate, T):\n",
    "    amount = money * ((1+discount_rate)**T)\n",
    "    print('${:,.2f}'.format(amount))\n",
    "    # return amount"
   ]
  },
  {
   "cell_type": "code",
   "execution_count": 176,
   "id": "d92b34d3-536b-43e1-b3ac-ba1f0a719cef",
   "metadata": {},
   "outputs": [
    {
     "data": {
      "text/plain": [
       "4000.0"
      ]
     },
     "execution_count": 176,
     "metadata": {},
     "output_type": "execute_result"
    }
   ],
   "source": [
    "CF = 100\n",
    "r = 0.05\n",
    "g=0.025\n",
    "T=20000\n",
    "growing_annuity(CF, g,r, T)"
   ]
  },
  {
   "cell_type": "code",
   "execution_count": 179,
   "id": "3f4578de-fc9c-463e-8b00-eb6a0ec3d080",
   "metadata": {},
   "outputs": [
    {
     "name": "stdout",
     "output_type": "stream",
     "text": [
      "$821,927.11\n"
     ]
    }
   ],
   "source": [
    "money = 1_000_000\n",
    "discount_rate = 0.04\n",
    "T = -5\n",
    "present_value(money, discount_rate, T)"
   ]
  },
  {
   "cell_type": "code",
   "execution_count": 183,
   "id": "1f762b9a-8a5d-4926-b191-b8241e74814e",
   "metadata": {},
   "outputs": [
    {
     "name": "stdout",
     "output_type": "stream",
     "text": [
      "i 1\n",
      "i 2\n",
      "i 3\n",
      "i 4\n"
     ]
    },
    {
     "data": {
      "text/plain": [
       "26247.696"
      ]
     },
     "execution_count": 183,
     "metadata": {},
     "output_type": "execute_result"
    }
   ],
   "source": [
    "total=6000\n",
    "for i in range(1,5):\n",
    "    print('i', i)\n",
    "    # total*=1.06\n",
    "    if i!=4:\n",
    "        total*=1.06\n",
    "        total+=6000\n",
    "total"
   ]
  },
  {
   "cell_type": "code",
   "execution_count": 203,
   "id": "979026a3-ef58-4a9d-af0f-1eda4dc8bfe4",
   "metadata": {},
   "outputs": [
    {
     "data": {
      "text/plain": [
       "-808.46875"
      ]
     },
     "execution_count": 203,
     "metadata": {},
     "output_type": "execute_result"
    }
   ],
   "source": [
    "total = 205_000\n",
    "for i in range(1,5):\n",
    "    total*=1.05\n",
    "    total-=58000\n",
    "total"
   ]
  },
  {
   "cell_type": "code",
   "execution_count": 208,
   "id": "e51bdd0f-d614-4abc-988e-356dcf32ffaa",
   "metadata": {},
   "outputs": [
    {
     "name": "stdout",
     "output_type": "stream",
     "text": [
      "$214,309.02\n"
     ]
    },
    {
     "data": {
      "text/plain": [
       "214309.01877940164"
      ]
     },
     "execution_count": 208,
     "metadata": {},
     "output_type": "execute_result"
    }
   ],
   "source": [
    "growing_annuity(CF=58000, g=0,r=0.0325, T=4)"
   ]
  },
  {
   "cell_type": "code",
   "execution_count": 216,
   "id": "12ea9c1c-5683-4be3-9667-9b888cd69400",
   "metadata": {},
   "outputs": [],
   "source": [
    "APR = 0.0387\n",
    "R = 0.0394\n",
    "k=12\n",
    "PV = 400_000\n",
    "T = 30\n",
    "num = PV * (R/k)\n",
    "expo = -T*k\n",
    "den = 1- ((1+(R/k))**expo)"
   ]
  },
  {
   "cell_type": "code",
   "execution_count": 222,
   "id": "ea27562e-b72a-43da-aa9b-dcd149771507",
   "metadata": {},
   "outputs": [],
   "source": [
    "def EAR(APR,k):\n",
    "    EAR = (1+(APR/k))**k\n",
    "    return EAR-1\n"
   ]
  },
  {
   "cell_type": "code",
   "execution_count": 229,
   "id": "9e2a239d-39e3-48f5-84c5-2ff008791089",
   "metadata": {},
   "outputs": [
    {
     "data": {
      "text/plain": [
       "0.05062499999999992"
      ]
     },
     "execution_count": 229,
     "metadata": {},
     "output_type": "execute_result"
    }
   ],
   "source": [
    "APR = 0.05\n",
    "k=2\n",
    "EAR(APR,k)"
   ]
  },
  {
   "cell_type": "code",
   "execution_count": 236,
   "id": "1cf81a87-524b-4922-b911-1210f6c72c7c",
   "metadata": {},
   "outputs": [
    {
     "data": {
      "text/plain": [
       "456.75"
      ]
     },
     "execution_count": 236,
     "metadata": {},
     "output_type": "execute_result"
    }
   ],
   "source": [
    "tax_rate = 0.37\n",
    "EBIT = 725\n",
    "NOPAT = EBIT * (1-tax_rate)\n",
    "NOPAT"
   ]
  },
  {
   "cell_type": "code",
   "execution_count": 240,
   "id": "4e5138f8-3e96-4be1-9881-b746ad78fe5c",
   "metadata": {},
   "outputs": [
    {
     "data": {
      "text/plain": [
       "526.65"
      ]
     },
     "execution_count": 240,
     "metadata": {},
     "output_type": "execute_result"
    }
   ],
   "source": [
    "NOPAT = 456.75\n",
    "Deprection = 26\n",
    "CapEx = 28.9\n",
    "Delta = -72.8\n",
    "NOPAT + Deprection - CapEx - Delta"
   ]
  },
  {
   "cell_type": "code",
   "execution_count": 252,
   "id": "014a3e52-e6cb-4095-89ee-0c96aeb9e6b7",
   "metadata": {},
   "outputs": [],
   "source": [
    "def get_npv(cash_flows, rate):\n",
    "    NPV = sum([cf/(rate**t)for t,cf in enumerate(cash_flows,start=0)])\n",
    "    return NPV"
   ]
  },
  {
   "cell_type": "code",
   "execution_count": 260,
   "id": "12bb535d-8728-4e2b-9626-86c4b355ed4f",
   "metadata": {},
   "outputs": [
    {
     "data": {
      "text/plain": [
       "(-179.9307958477509, -179.9307958477509)"
      ]
     },
     "execution_count": 260,
     "metadata": {},
     "output_type": "execute_result"
    }
   ],
   "source": [
    "cash_flows = [-175,200]\n",
    "rate = 1.36\n",
    "get_npv(cash_flows, rate), npf.npv(rate=rate-1, values=cash_flows)\n"
   ]
  },
  {
   "cell_type": "code",
   "execution_count": 273,
   "id": "72cbf8c5-9c7f-4bd7-8e1c-8467a11eef70",
   "metadata": {},
   "outputs": [
    {
     "data": {
      "text/plain": [
       "-0.6"
      ]
     },
     "execution_count": 273,
     "metadata": {},
     "output_type": "execute_result"
    }
   ],
   "source": [
    "cash_flows = [-500,200]\n",
    "rate = 1.36\n",
    "npf.irr(cash_flows)"
   ]
  },
  {
   "cell_type": "code",
   "execution_count": 269,
   "id": "8634a343-3c69-43c4-9063-77722ab48624",
   "metadata": {},
   "outputs": [
    {
     "data": {
      "text/plain": [
       "-0.5"
      ]
     },
     "execution_count": 269,
     "metadata": {},
     "output_type": "execute_result"
    }
   ],
   "source": [
    "(250-500)/500\n"
   ]
  },
  {
   "cell_type": "code",
   "execution_count": 305,
   "id": "8b649249-2751-4e45-98e2-550eba26ef38",
   "metadata": {},
   "outputs": [
    {
     "data": {
      "text/plain": [
       "(351.7876291919919, 2030.3718238052725)"
      ]
     },
     "execution_count": 305,
     "metadata": {},
     "output_type": "execute_result"
    }
   ],
   "source": [
    "total = 100\n",
    "sum_total = total\n",
    "for i in range(1,10):\n",
    "    total*=1.15\n",
    "    sum_total+=total\n",
    "total, sum_total"
   ]
  },
  {
   "cell_type": "code",
   "execution_count": 318,
   "id": "6153c025-4706-4615-96f9-fcaf138fb277",
   "metadata": {},
   "outputs": [
    {
     "data": {
      "text/plain": [
       "0.06904761904761905"
      ]
     },
     "execution_count": 318,
     "metadata": {},
     "output_type": "execute_result"
    }
   ],
   "source": [
    "1450/21000"
   ]
  },
  {
   "cell_type": "code",
   "execution_count": 281,
   "id": "ae1d83a1-f720-4e16-b833-3b24d48113d0",
   "metadata": {},
   "outputs": [
    {
     "data": {
      "text/plain": [
       "1000000.0"
      ]
     },
     "execution_count": 281,
     "metadata": {},
     "output_type": "execute_result"
    }
   ],
   "source": [
    "t=0\n",
    "1_000_000*np.exp(0.05*t)"
   ]
  },
  {
   "cell_type": "code",
   "execution_count": 299,
   "id": "360a0411-ae32-479f-a03a-13a24a1489ba",
   "metadata": {},
   "outputs": [
    {
     "data": {
      "text/plain": [
       "0.0058731870931747025"
      ]
     },
     "execution_count": 299,
     "metadata": {},
     "output_type": "execute_result"
    }
   ],
   "source": [
    "(0.5 / (20_000 * (0.29**-1.4)))**(1/2.4)"
   ]
  },
  {
   "cell_type": "code",
   "execution_count": 293,
   "id": "877b3920-ef01-44f0-b37a-6ec9d9952ba3",
   "metadata": {},
   "outputs": [
    {
     "data": {
      "text/plain": [
       "2.0"
      ]
     },
     "execution_count": 293,
     "metadata": {},
     "output_type": "execute_result"
    }
   ],
   "source": []
  }
 ],
 "metadata": {
  "kernelspec": {
   "display_name": "Python 3 (ipykernel)",
   "language": "python",
   "name": "python3"
  },
  "language_info": {
   "codemirror_mode": {
    "name": "ipython",
    "version": 3
   },
   "file_extension": ".py",
   "mimetype": "text/x-python",
   "name": "python",
   "nbconvert_exporter": "python",
   "pygments_lexer": "ipython3",
   "version": "3.10.6"
  }
 },
 "nbformat": 4,
 "nbformat_minor": 5
}
