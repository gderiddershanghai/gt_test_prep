{
 "cells": [
  {
   "cell_type": "code",
   "execution_count": 2,
   "id": "c12ffc0e-0fb9-4145-90d2-d0c3b93a12ab",
   "metadata": {},
   "outputs": [],
   "source": [
    "import numpy as np"
   ]
  },
  {
   "cell_type": "code",
   "execution_count": 33,
   "id": "2e5687a4-50d0-4c34-afdb-a4e887cd0bb9",
   "metadata": {},
   "outputs": [
    {
     "data": {
      "text/plain": [
       "83333.33333333334"
      ]
     },
     "execution_count": 33,
     "metadata": {},
     "output_type": "execute_result"
    }
   ],
   "source": [
    "r = 0.12\n",
    "g = 0 #(140/10_000)\n",
    "t = 1\n",
    "D = 10_000\n",
    "\n",
    "lfs = D / (r - g)\n",
    "rhs = 1 / ((1 + r) ** (t - 1))\n",
    "P0 = lfs * rhs\n",
    "P0"
   ]
  },
  {
   "cell_type": "code",
   "execution_count": 40,
   "id": "87cda4fa-bf85-4231-bfd9-894efa602852",
   "metadata": {},
   "outputs": [
    {
     "data": {
      "text/plain": [
       "75446.42857142857"
      ]
     },
     "execution_count": 40,
     "metadata": {},
     "output_type": "execute_result"
    }
   ],
   "source": [
    "r = 0.12\n",
    "g = 0\n",
    "t = 2\n",
    "D = 10_140\n",
    "\n",
    "lfs = D / (r - g)\n",
    "rhs = 1 / ((1 + r) ** (t - 1))\n",
    "P0 = lfs * rhs\n",
    "P0"
   ]
  },
  {
   "cell_type": "code",
   "execution_count": 41,
   "id": "b31eb147-dde6-4597-a4b5-447062fda1f8",
   "metadata": {},
   "outputs": [
    {
     "data": {
      "text/plain": [
       "83482.14285714286"
      ]
     },
     "execution_count": 41,
     "metadata": {},
     "output_type": "execute_result"
    }
   ],
   "source": [
    "(9000/(1.12)) + P0"
   ]
  },
  {
   "cell_type": "code",
   "execution_count": 74,
   "id": "989d1deb-c335-4adb-92b3-c84568ba1edb",
   "metadata": {},
   "outputs": [],
   "source": [
    "def calculate_price(E1, b, r, ROE):\n",
    "    g  = b*ROE\n",
    "    print('g: ', g)\n",
    "    num = (1-b)*E1\n",
    "    print('numerator, D', num)\n",
    "    den = r-(b*ROE)\n",
    "    return num/den"
   ]
  },
  {
   "cell_type": "code",
   "execution_count": 75,
   "id": "f8ec6cbf-a705-48ce-a6c4-d62878a2c3b6",
   "metadata": {},
   "outputs": [
    {
     "name": "stdout",
     "output_type": "stream",
     "text": [
      "g:  0.05\n",
      "numerator, D 2.5\n"
     ]
    },
    {
     "data": {
      "text/plain": [
       "50.0"
      ]
     },
     "execution_count": 75,
     "metadata": {},
     "output_type": "execute_result"
    }
   ],
   "source": [
    "E1, b, r, ROE = 5,0.5,0.10,0.1\n",
    "calculate_price(E1, b, r, ROE)"
   ]
  },
  {
   "cell_type": "code",
   "execution_count": 76,
   "id": "3e6e0e95-de07-41ec-8096-3d63a5fd7ad4",
   "metadata": {},
   "outputs": [
    {
     "data": {
      "text/plain": [
       "16.666666666666668"
      ]
     },
     "execution_count": 76,
     "metadata": {},
     "output_type": "execute_result"
    }
   ],
   "source": [
    "D =0.5\n",
    "r=0.12\n",
    "g=0.09\n",
    "D/(r-g)"
   ]
  },
  {
   "cell_type": "code",
   "execution_count": 83,
   "id": "b519a372-8151-4892-bef1-0e416a4be5cb",
   "metadata": {},
   "outputs": [
    {
     "name": "stdout",
     "output_type": "stream",
     "text": [
      "g:  0.09\n",
      "numerator, D 0.5\n"
     ]
    },
    {
     "data": {
      "text/plain": [
       "16.666666666666668"
      ]
     },
     "execution_count": 83,
     "metadata": {},
     "output_type": "execute_result"
    }
   ],
   "source": [
    "E1, b, r, ROE = 2,0.75,0.12,0.12\n",
    "calculate_price(E1, b, r, ROE)"
   ]
  },
  {
   "cell_type": "code",
   "execution_count": 78,
   "id": "5905595a-8db5-4774-aed1-7ca1567c18c5",
   "metadata": {},
   "outputs": [
    {
     "data": {
      "text/plain": [
       "0.75"
      ]
     },
     "execution_count": 78,
     "metadata": {},
     "output_type": "execute_result"
    }
   ],
   "source": [
    "0.09/0.12"
   ]
  },
  {
   "cell_type": "code",
   "execution_count": 84,
   "id": "cbcc0b9b-0897-45e9-a3c5-3577f511e6e4",
   "metadata": {},
   "outputs": [
    {
     "data": {
      "text/plain": [
       "16.666666666666668"
      ]
     },
     "execution_count": 84,
     "metadata": {},
     "output_type": "execute_result"
    }
   ],
   "source": [
    "0.5/(0.03)"
   ]
  }
 ],
 "metadata": {
  "kernelspec": {
   "display_name": "Python 3 (ipykernel)",
   "language": "python",
   "name": "python3"
  },
  "language_info": {
   "codemirror_mode": {
    "name": "ipython",
    "version": 3
   },
   "file_extension": ".py",
   "mimetype": "text/x-python",
   "name": "python",
   "nbconvert_exporter": "python",
   "pygments_lexer": "ipython3",
   "version": "3.10.6"
  }
 },
 "nbformat": 4,
 "nbformat_minor": 5
}
