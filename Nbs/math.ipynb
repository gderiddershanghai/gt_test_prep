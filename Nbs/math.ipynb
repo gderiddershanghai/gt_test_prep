{
 "cells": [
  {
   "cell_type": "code",
   "execution_count": 2,
   "id": "93babcae-ed30-4ed1-a6a3-a88aed6534b1",
   "metadata": {},
   "outputs": [],
   "source": [
    "import math\n",
    "import numpy as np\n",
    "import scipy.stats\n",
    "import seaborn as sns"
   ]
  },
  {
   "cell_type": "code",
   "execution_count": 5,
   "id": "25201398-a880-4649-b4eb-960e0024fd80",
   "metadata": {},
   "outputs": [
    {
     "name": "stdout",
     "output_type": "stream",
     "text": [
      "---4--0.0\n",
      "---3--0.0\n",
      "--3--nan\n",
      "--4--nan\n"
     ]
    },
    {
     "name": "stderr",
     "output_type": "stream",
     "text": [
      "/tmp/ipykernel_20591/2931245950.py:2: RuntimeWarning: invalid value encountered in sqrt\n",
      "  lhs= np.sqrt(8-(7*z))\n"
     ]
    }
   ],
   "source": [
    "for z in [-4,-3,3,4]:\n",
    "    lhs= np.sqrt(8-(7*z))\n",
    "    rhs=np.sqrt(z**2+20)\n",
    "    print(f'--{z }--{lhs-rhs}')"
   ]
  },
  {
   "cell_type": "code",
   "execution_count": 16,
   "id": "1d0c9ed9-98cd-4314-b430-3b20e17957c9",
   "metadata": {},
   "outputs": [
    {
     "data": {
      "text/plain": [
       "(0.8660254037844384, -0.13238162920545193)"
      ]
     },
     "execution_count": 16,
     "metadata": {},
     "output_type": "execute_result"
    }
   ],
   "source": [
    "x = np.deg2rad(330)\n",
    "np.cos(x), np.sin(330)"
   ]
  },
  {
   "cell_type": "code",
   "execution_count": 27,
   "id": "10ddded4-fc28-48d9-8e94-b7b4b8849858",
   "metadata": {},
   "outputs": [
    {
     "data": {
      "text/plain": [
       "array([-3.+15.j])"
      ]
     },
     "execution_count": 27,
     "metadata": {},
     "output_type": "execute_result"
    }
   ],
   "source": [
    "np.array([-3+3j])*np.array([3-2j])"
   ]
  },
  {
   "cell_type": "code",
   "execution_count": 31,
   "id": "58a0c38f-c9f6-442b-a15a-9a0c2ca1e8c7",
   "metadata": {},
   "outputs": [
    {
     "data": {
      "text/plain": [
       "1.225"
      ]
     },
     "execution_count": 31,
     "metadata": {},
     "output_type": "execute_result"
    }
   ],
   "source": [
    "2450/2000"
   ]
  },
  {
   "cell_type": "code",
   "execution_count": 47,
   "id": "77087082-2160-4cdf-85c2-692f2f29c6bf",
   "metadata": {},
   "outputs": [
    {
     "data": {
      "text/plain": [
       "1837.5"
      ]
     },
     "execution_count": 47,
     "metadata": {},
     "output_type": "execute_result"
    }
   ],
   "source": [
    "t=2\n",
    "4900*((3/8)**(7/7))\n"
   ]
  },
  {
   "cell_type": "code",
   "execution_count": 48,
   "id": "a6a23be0-b0c7-402b-8ea4-34a3cd80736c",
   "metadata": {},
   "outputs": [
    {
     "data": {
      "text/plain": [
       "1837.5"
      ]
     },
     "execution_count": 48,
     "metadata": {},
     "output_type": "execute_result"
    }
   ],
   "source": [
    "4900*(3/8)"
   ]
  },
  {
   "cell_type": "code",
   "execution_count": 54,
   "id": "a42a0f89-e397-4fca-b406-edb744d52e54",
   "metadata": {},
   "outputs": [
    {
     "data": {
      "text/plain": [
       "5.2"
      ]
     },
     "execution_count": 54,
     "metadata": {},
     "output_type": "execute_result"
    }
   ],
   "source": [
    "A=9\n",
    "B=4\n",
    "2*np.sqrt(A)-(B/5)"
   ]
  },
  {
   "cell_type": "code",
   "execution_count": 57,
   "id": "85837973-3f07-4b18-92e2-eefb7dbe9391",
   "metadata": {},
   "outputs": [
    {
     "data": {
      "text/plain": [
       "0.8145"
      ]
     },
     "execution_count": 57,
     "metadata": {},
     "output_type": "execute_result"
    }
   ],
   "source": [
    "np.round(np.log(26)/4,4)"
   ]
  }
 ],
 "metadata": {
  "kernelspec": {
   "display_name": "Python 3 (ipykernel)",
   "language": "python",
   "name": "python3"
  },
  "language_info": {
   "codemirror_mode": {
    "name": "ipython",
    "version": 3
   },
   "file_extension": ".py",
   "mimetype": "text/x-python",
   "name": "python",
   "nbconvert_exporter": "python",
   "pygments_lexer": "ipython3",
   "version": "3.10.6"
  }
 },
 "nbformat": 4,
 "nbformat_minor": 5
}
